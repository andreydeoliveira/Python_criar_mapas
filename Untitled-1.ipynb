{
 "cells": [
  {
   "cell_type": "code",
   "execution_count": null,
   "metadata": {},
   "outputs": [],
   "source": [
    "import geobr"
   ]
  },
  {
   "cell_type": "code",
   "execution_count": null,
   "metadata": {},
   "outputs": [],
   "source": [
    "censo_RJ_2010 = geobr.read_census_tract(code_tract=\"RJ\", year = 2010)"
   ]
  },
  {
   "cell_type": "code",
   "execution_count": null,
   "metadata": {},
   "outputs": [],
   "source": [
    "censo_RJ_2010.plot()"
   ]
  },
  {
   "cell_type": "code",
   "execution_count": null,
   "metadata": {},
   "outputs": [],
   "source": [
    "censo_RJ_2010.to_file(\"./censo_RJ.gpkg\")"
   ]
  },
  {
   "cell_type": "code",
   "execution_count": null,
   "metadata": {},
   "outputs": [],
   "source": [
    "censo_RJ_2010.head(5)"
   ]
  },
  {
   "cell_type": "code",
   "execution_count": null,
   "metadata": {},
   "outputs": [],
   "source": [
    "import pandas as pd"
   ]
  },
  {
   "cell_type": "code",
   "execution_count": null,
   "metadata": {},
   "outputs": [],
   "source": [
    "censo = pd.read_csv(\"./Basico_RJ.csv\", encoding=\"LATIN-1\", sep=\";\", decimal=\",\") "
   ]
  },
  {
   "cell_type": "code",
   "execution_count": null,
   "metadata": {},
   "outputs": [],
   "source": [
    "censo.head()"
   ]
  },
  {
   "cell_type": "code",
   "execution_count": null,
   "metadata": {},
   "outputs": [],
   "source": [
    "censo = censo[[\"Cod_setor\", \"V005\"]]"
   ]
  },
  {
   "cell_type": "code",
   "execution_count": null,
   "metadata": {},
   "outputs": [],
   "source": [
    "censo.head()"
   ]
  },
  {
   "cell_type": "code",
   "execution_count": null,
   "metadata": {},
   "outputs": [],
   "source": [
    "import contextily as ctx"
   ]
  },
  {
   "cell_type": "code",
   "execution_count": null,
   "metadata": {},
   "outputs": [],
   "source": [
    "eixo = censo_RJ_2010.plot(color=\"green\", alpha=0.5, figsize=(10,10))\n",
    "ctx.add_basemap(ax=eixo, crs=censo_RJ_2010.crs, source=ctx.providers.CartoDB.Positron)"
   ]
  },
  {
   "cell_type": "code",
   "execution_count": null,
   "metadata": {},
   "outputs": [],
   "source": [
    "censo_RJ_2010.code_tract.dtype"
   ]
  },
  {
   "cell_type": "code",
   "execution_count": null,
   "metadata": {},
   "outputs": [],
   "source": [
    "censo.Cod_setor.dtype"
   ]
  },
  {
   "cell_type": "code",
   "execution_count": null,
   "metadata": {},
   "outputs": [],
   "source": [
    "censo_RJ_2010.code_tract = censo_RJ_2010.code_tract.astype(int)"
   ]
  },
  {
   "cell_type": "code",
   "execution_count": null,
   "metadata": {},
   "outputs": [],
   "source": [
    "dados = censo_RJ_2010.merge(censo, left_on=\"code_tract\", right_on=\"Cod_setor\")"
   ]
  },
  {
   "cell_type": "code",
   "execution_count": null,
   "metadata": {},
   "outputs": [],
   "source": [
    "dados.head(3)"
   ]
  },
  {
   "cell_type": "code",
   "execution_count": null,
   "metadata": {},
   "outputs": [],
   "source": [
    "import matplotlib.pyplot as plt"
   ]
  },
  {
   "cell_type": "code",
   "execution_count": null,
   "metadata": {},
   "outputs": [],
   "source": [
    "for i in pd.unique(dados.name_muni):\n",
    "    fig,ax = plt.subplots(figsize=(10,10))\n",
    "    select = dados[dados.name_muni == i]\n",
    "    \n",
    "    select.plot(column=\"V005\", \n",
    "                ax=ax, \n",
    "                scheme=\"quantiles\", \n",
    "                k=3, \n",
    "                cmap=\"OrRd\", \n",
    "                edgecolor=\"k\", \n",
    "                legend=True, \n",
    "                legend_kwds={\"loc\":\"center left\", \"bbox_to_anchor\":(1,0.5), \"title\": \"Rendimento nominal\\nmédio mensal\"})\n",
    "    ax.set_title(i, x=0.5, y=1.25, va=\"center\")\n",
    "    fig.subplots_adjust(top=0.75)\n",
    "    fig.tight_layout()\n",
    "    plt.show(block=False)"
   ]
  }
 ],
 "metadata": {
  "kernelspec": {
   "display_name": "venv",
   "language": "python",
   "name": "python3"
  },
  "language_info": {
   "codemirror_mode": {
    "name": "ipython",
    "version": 3
   },
   "file_extension": ".py",
   "mimetype": "text/x-python",
   "name": "python",
   "nbconvert_exporter": "python",
   "pygments_lexer": "ipython3",
   "version": "3.12.6"
  }
 },
 "nbformat": 4,
 "nbformat_minor": 2
}
